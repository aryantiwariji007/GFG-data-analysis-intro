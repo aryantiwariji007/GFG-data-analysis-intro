{
 "cells": [
  {
   "cell_type": "raw",
   "id": "43ee9710-3340-4852-a236-e6ede8295865",
   "metadata": {},
   "source": [
    "import os\n"
   ]
  },
  {
   "cell_type": "code",
   "execution_count": 10,
   "id": "be9dd2ed-7fa8-43ff-b097-25de2b3ea788",
   "metadata": {},
   "outputs": [],
   "source": [
    "!mkdir Test"
   ]
  },
  {
   "cell_type": "code",
   "execution_count": 11,
   "id": "3c012d80-244a-45e7-99a6-244a31b7275d",
   "metadata": {},
   "outputs": [
    {
     "name": "stdout",
     "output_type": "stream",
     "text": [
      "Test/Test 1\n",
      "Test/Test 2\n",
      "Test/Test 3\n",
      "Test/Test 4\n",
      "Test/Test 5\n",
      "Test/Test 6\n",
      "Test/Test 7\n",
      "Test/Test 8\n",
      "Test/Test 9\n",
      "Test/Test 10\n",
      "Test/Test 11\n",
      "Test/Test 12\n",
      "Test/Test 13\n",
      "Test/Test 14\n",
      "Test/Test 15\n",
      "Test/Test 16\n",
      "Test/Test 17\n",
      "Test/Test 18\n",
      "Test/Test 19\n",
      "Test/Test 20\n",
      "Test/Test 21\n",
      "Test/Test 22\n",
      "Test/Test 23\n",
      "Test/Test 24\n",
      "Test/Test 25\n",
      "Test/Test 26\n",
      "Test/Test 27\n",
      "Test/Test 28\n",
      "Test/Test 29\n",
      "Test/Test 30\n",
      "Test/Test 31\n",
      "Test/Test 32\n",
      "Test/Test 33\n",
      "Test/Test 34\n",
      "Test/Test 35\n",
      "Test/Test 36\n",
      "Test/Test 37\n",
      "Test/Test 38\n",
      "Test/Test 39\n",
      "Test/Test 40\n",
      "Test/Test 41\n",
      "Test/Test 42\n",
      "Test/Test 43\n",
      "Test/Test 44\n",
      "Test/Test 45\n",
      "Test/Test 46\n",
      "Test/Test 47\n",
      "Test/Test 48\n",
      "Test/Test 49\n",
      "Test/Test 50\n",
      "Test/Test 51\n",
      "Test/Test 52\n",
      "Test/Test 53\n",
      "Test/Test 54\n",
      "Test/Test 55\n",
      "Test/Test 56\n",
      "Test/Test 57\n",
      "Test/Test 58\n",
      "Test/Test 59\n",
      "Test/Test 60\n",
      "Test/Test 61\n",
      "Test/Test 62\n",
      "Test/Test 63\n",
      "Test/Test 64\n",
      "Test/Test 65\n",
      "Test/Test 66\n",
      "Test/Test 67\n",
      "Test/Test 68\n",
      "Test/Test 69\n",
      "Test/Test 70\n",
      "Test/Test 71\n",
      "Test/Test 72\n",
      "Test/Test 73\n",
      "Test/Test 74\n",
      "Test/Test 75\n",
      "Test/Test 76\n",
      "Test/Test 77\n",
      "Test/Test 78\n",
      "Test/Test 79\n",
      "Test/Test 80\n",
      "Test/Test 81\n",
      "Test/Test 82\n",
      "Test/Test 83\n",
      "Test/Test 84\n",
      "Test/Test 85\n",
      "Test/Test 86\n",
      "Test/Test 87\n",
      "Test/Test 88\n",
      "Test/Test 89\n",
      "Test/Test 90\n",
      "Test/Test 91\n",
      "Test/Test 92\n",
      "Test/Test 93\n",
      "Test/Test 94\n",
      "Test/Test 95\n",
      "Test/Test 96\n",
      "Test/Test 97\n",
      "Test/Test 98\n",
      "Test/Test 99\n",
      "Test/Test 100\n"
     ]
    }
   ],
   "source": [
    "for i in range(100):\n",
    "    name=\"Test/Test \" + str(i +1)\n",
    "    os.mkdir(name)\n",
    "    print(name)"
   ]
  },
  {
   "cell_type": "code",
   "execution_count": 17,
   "id": "557552bb-f43b-4452-8626-33040995ab6b",
   "metadata": {},
   "outputs": [],
   "source": [
    "n=\"TCS\"\n",
    "os.mkdir(n)\n",
    "\n",
    "for i in range(100000):\n",
    "    name = n + '/' + n + str(i+1)\n",
    "    os.mkdir(name)\n",
    "\n"
   ]
  },
  {
   "cell_type": "code",
   "execution_count": null,
   "id": "9de48ffc-e741-4b95-aa75-bbad06792553",
   "metadata": {},
   "outputs": [],
   "source": []
  }
 ],
 "metadata": {
  "kernelspec": {
   "display_name": "Python 3 (ipykernel)",
   "language": "python",
   "name": "python3"
  },
  "language_info": {
   "codemirror_mode": {
    "name": "ipython",
    "version": 3
   },
   "file_extension": ".py",
   "mimetype": "text/x-python",
   "name": "python",
   "nbconvert_exporter": "python",
   "pygments_lexer": "ipython3",
   "version": "3.11.7"
  }
 },
 "nbformat": 4,
 "nbformat_minor": 5
}
