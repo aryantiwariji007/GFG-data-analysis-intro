{
 "cells": [
  {
   "cell_type": "code",
   "execution_count": 1,
   "id": "2d8df512-6651-413d-8e50-776d3ccec4e4",
   "metadata": {},
   "outputs": [],
   "source": [
    "import os"
   ]
  },
  {
   "cell_type": "code",
   "execution_count": 2,
   "id": "72de7ac1-c53d-4bb6-9a5a-083886d1ba3a",
   "metadata": {},
   "outputs": [
    {
     "data": {
      "text/plain": [
       "'C:\\\\Users\\\\Admin\\\\Desktop'"
      ]
     },
     "execution_count": 2,
     "metadata": {},
     "output_type": "execute_result"
    }
   ],
   "source": [
    "os.getcwd()"
   ]
  },
  {
   "cell_type": "code",
   "execution_count": 3,
   "id": "7775bfad-7f84-44bd-9799-c1add9b2c6b3",
   "metadata": {},
   "outputs": [
    {
     "data": {
      "text/plain": [
       "'C:\\\\Users\\\\Admin\\\\Desktop'"
      ]
     },
     "execution_count": 3,
     "metadata": {},
     "output_type": "execute_result"
    }
   ],
   "source": [
    "pwd"
   ]
  },
  {
   "cell_type": "code",
   "execution_count": 4,
   "id": "0625e14c-f5df-4fae-8da8-cc250a1405b7",
   "metadata": {},
   "outputs": [
    {
     "name": "stdout",
     "output_type": "stream",
     "text": [
      " Volume in drive C has no label.\n",
      " Volume Serial Number is BEA9-3883\n",
      "\n",
      " Directory of C:\\Users\\Admin\\Desktop\n",
      "\n",
      "03/14/2024  05:55 PM    <DIR>           GFG data analysis\n",
      "04/01/2024  07:29 PM    <DIR>          .\n",
      "04/01/2024  07:29 PM    <DIR>          ..\n",
      "04/01/2024  07:28 PM    <DIR>          .ipynb_checkpoints\n",
      "12/30/2023  05:18 PM            55,419 ap22364795346345-2c6120b6fd7a4e91f1b49c8bafa1d3b9ae28e482-s1100-c50.jpg\n",
      "12/11/2023  06:34 PM    <DIR>          Apna college c++\n",
      "01/11/2024  12:51 PM         1,080,370 Aryan Tiwari Resume.pdf\n",
      "03/31/2024  06:00 PM                 0 aryan.txt\n",
      "10/29/2023  04:05 PM    <DIR>          bootstrap demo\n",
      "05/05/2023  02:56 PM         9,331,722 CCSKv4_Exam_Preparation_Kit.zip\n",
      "08/28/2023  12:04 PM    <DIR>          clone items\n",
      "03/14/2024  08:01 PM    <DIR>          complete web devlopment bootcamp\n",
      "02/06/2023  06:18 PM         1,861,296 david goggins 2.png\n",
      "02/06/2023  06:18 PM            24,842 david goggins.jpg\n",
      "09/10/2023  10:45 AM    <DIR>          Day2Code\n",
      "09/10/2023  07:38 AM       179,095,457 Day2Code.zip\n",
      "10/15/2023  10:10 PM    <DIR>          gdb c++\n",
      "03/15/2024  08:05 PM    <DIR>          GFG Data analysis\n",
      "03/17/2024  10:00 AM    <DIR>          GFG python\n",
      "03/27/2024  07:44 PM             8,606 inventory management system with json adding functionalities.ipynb\n",
      "03/17/2024  06:01 PM             4,638 Inventory management with add functionalities .ipynb\n",
      "03/16/2024  05:29 PM             2,590 Inventory Management with files.ipynb\n",
      "03/27/2024  07:17 PM    <DIR>          Inventory management with json\n",
      "03/17/2024  07:20 PM             7,466 inventory management-generate sales.ipynb\n",
      "03/17/2024  07:19 PM                70 inventory.txt\n",
      "03/17/2024  05:58 PM             3,523 inventory1.ipynb\n",
      "03/16/2024  05:29 PM                70 Inventory1.txt.txt\n",
      "02/15/2024  07:18 PM    <DIR>          javascript one shot\n",
      "12/26/2023  09:29 PM    <DIR>          lovebabbar DSA\n",
      "09/10/2023  10:23 AM    <DIR>          MANIT\n",
      "10/08/2023  03:25 PM               879 MinGW Installer.lnk\n",
      "12/01/2023  07:35 PM           737,920 Mini project presentation.pdf\n",
      "12/03/2023  09:25 PM             2,647 Monkeytype.lnk\n",
      "08/24/2023  03:50 PM    <DIR>          New folder\n",
      "09/09/2023  12:08 PM    <DIR>          NIT BPL\n",
      "11/03/2023  06:33 PM         1,885,882 NitBHOPAL-main.zip\n",
      "04/01/2024  07:29 PM             1,547 OS with python.ipynb\n",
      "09/28/2023  07:25 PM             2,185 Postman.lnk\n",
      "02/16/2024  07:13 PM        26,667,456 python-3.12.2-amd64.exe\n",
      "03/26/2024  06:44 PM                 0 Record.json\n",
      "03/27/2024  07:31 PM                 0 Records.json\n",
      "03/17/2024  07:19 PM               130 sales.txt\n",
      "03/19/2023  01:23 PM            85,692 soccer-lionel-messi-fc-barcelona-wallpaper-preview.jpg\n",
      "10/01/2023  11:43 AM           415,429 SURAKSHA MODEL IMAGE.jpeg\n",
      "10/01/2023  11:44 AM         1,240,039 SURAKSHA S7235 PPT.pdf\n",
      "04/01/2024  07:26 PM                72 Untitled.ipynb\n",
      "12/09/2023  05:30 PM             1,400 Visual Studio Code.lnk\n",
      "03/14/2024  08:13 PM                 0 writing data on a text file.txt\n",
      "01/31/2023  10:30 PM             2,641 youtube.lnk\n",
      "              31 File(s)    222,519,988 bytes\n",
      "              18 Dir(s)  386,910,314,496 bytes free\n"
     ]
    }
   ],
   "source": [
    "ls\n"
   ]
  },
  {
   "cell_type": "code",
   "execution_count": 5,
   "id": "519e5423-4099-4a33-a01c-fc6cdf17a18e",
   "metadata": {},
   "outputs": [],
   "source": [
    "os.chdir(\"NIT BPL\")"
   ]
  },
  {
   "cell_type": "code",
   "execution_count": 6,
   "id": "f9c9af2a-c1f3-40e6-b093-2ef4c2d58d50",
   "metadata": {},
   "outputs": [
    {
     "data": {
      "text/plain": [
       "'C:\\\\Users\\\\Admin\\\\Desktop\\\\NIT BPL'"
      ]
     },
     "execution_count": 6,
     "metadata": {},
     "output_type": "execute_result"
    }
   ],
   "source": [
    "os.getcwd()"
   ]
  },
  {
   "cell_type": "code",
   "execution_count": 11,
   "id": "a3e4ecac-d92d-4db7-8ffb-a95829e7710a",
   "metadata": {},
   "outputs": [],
   "source": [
    "os.chdir(\"../\")"
   ]
  },
  {
   "cell_type": "code",
   "execution_count": 8,
   "id": "bc7aeab5-597a-405e-8bca-082325fc0cf8",
   "metadata": {},
   "outputs": [
    {
     "name": "stdout",
     "output_type": "stream",
     "text": [
      " Volume in drive C has no label.\n",
      " Volume Serial Number is BEA9-3883\n",
      "\n",
      " Directory of C:\\Users\\Admin\\Desktop\\NIT BPL\n",
      "\n",
      "09/09/2023  12:08 PM    <DIR>          .\n",
      "09/09/2023  12:08 PM    <DIR>          ..\n",
      "09/09/2023  11:40 AM             6,148 .DS_Store\n",
      "09/09/2023  12:08 PM    <DIR>          05-Guess-My-Number copy\n",
      "09/09/2023  12:08 PM    <DIR>          07-Pig-Game copy\n",
      "09/09/2023  12:08 PM    <DIR>          counter-with-3hooks-main\n",
      "09/09/2023  12:08 PM    <DIR>          foodCart\n",
      "09/08/2023  10:46 PM    <DIR>          forms\n",
      "09/09/2023  12:08 PM    <DIR>          html & css\n",
      "               1 File(s)          6,148 bytes\n",
      "               8 Dir(s)  386,871,156,736 bytes free\n"
     ]
    }
   ],
   "source": [
    "ls"
   ]
  },
  {
   "cell_type": "code",
   "execution_count": 12,
   "id": "d2daccac-59ad-4537-9eb6-69599b8d2138",
   "metadata": {},
   "outputs": [],
   "source": [
    "os.mkdir(\"GFG\")"
   ]
  },
  {
   "cell_type": "code",
   "execution_count": 13,
   "id": "a607b85f-a5c2-415c-b271-34bfecc66ec3",
   "metadata": {},
   "outputs": [],
   "source": [
    "os.makedirs(\"GFG/GFG/GFG/GFG\")"
   ]
  },
  {
   "cell_type": "code",
   "execution_count": null,
   "id": "9468d5e3-2cf0-4ba7-9dba-69b559c61e5b",
   "metadata": {},
   "outputs": [],
   "source": []
  }
 ],
 "metadata": {
  "kernelspec": {
   "display_name": "Python 3 (ipykernel)",
   "language": "python",
   "name": "python3"
  },
  "language_info": {
   "codemirror_mode": {
    "name": "ipython",
    "version": 3
   },
   "file_extension": ".py",
   "mimetype": "text/x-python",
   "name": "python",
   "nbconvert_exporter": "python",
   "pygments_lexer": "ipython3",
   "version": "3.11.7"
  }
 },
 "nbformat": 4,
 "nbformat_minor": 5
}
