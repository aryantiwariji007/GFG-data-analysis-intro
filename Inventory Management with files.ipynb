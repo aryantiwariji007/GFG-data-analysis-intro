{
 "cells": [
  {
   "cell_type": "code",
   "execution_count": 15,
   "id": "cdb6877e-4d48-468e-90ae-6c871a246d51",
   "metadata": {},
   "outputs": [],
   "source": [
    "fd = open(\"Inventory.txt\",'w')\n",
    "\n",
    "fd.close()"
   ]
  },
  {
   "cell_type": "markdown",
   "id": "6c6a21ca-fa35-4318-aa19-cbc02b69b0ec",
   "metadata": {},
   "source": [
    "1.product Id\n",
    "2.name of the product\n",
    "3.price of product\n",
    "4.Quantity\n"
   ]
  },
  {
   "cell_type": "code",
   "execution_count": 17,
   "id": "63e2e4ed-82b5-4415-ab59-a6ffa46a5e90",
   "metadata": {},
   "outputs": [],
   "source": [
    "fd=open('Inventory.txt','r')\n",
    "txt=fd.read()\n",
    "fd.close()"
   ]
  },
  {
   "cell_type": "code",
   "execution_count": 18,
   "id": "c915f160-2c08-4e9a-bce6-feefec12ab0f",
   "metadata": {},
   "outputs": [
    {
     "data": {
      "text/plain": [
       "'1,Milky bar,10,2\\n2,lotte choco pie,23,4\\n3,munch,20,15\\n4,cake,300,14'"
      ]
     },
     "execution_count": 18,
     "metadata": {},
     "output_type": "execute_result"
    }
   ],
   "source": [
    "txt"
   ]
  },
  {
   "cell_type": "code",
   "execution_count": 20,
   "id": "fa77eaa9-5f7f-49ad-b80e-e8cd25ca340b",
   "metadata": {},
   "outputs": [
    {
     "data": {
      "text/plain": [
       "['1,Milky bar,10,2',\n",
       " '2,lotte choco pie,23,4',\n",
       " '3,munch,20,15',\n",
       " '4,cake,300,14']"
      ]
     },
     "execution_count": 20,
     "metadata": {},
     "output_type": "execute_result"
    }
   ],
   "source": [
    "txt.split('\\n')"
   ]
  },
  {
   "cell_type": "code",
   "execution_count": 19,
   "id": "a3757830-9ae5-413a-82f3-84b0cb557cb7",
   "metadata": {},
   "outputs": [
    {
     "name": "stdout",
     "output_type": "stream",
     "text": [
      "1,Milky bar,10,2\n",
      "2,lotte choco pie,23,4\n",
      "3,munch,20,15\n",
      "4,cake,300,14\n"
     ]
    }
   ],
   "source": [
    "print(txt)"
   ]
  },
  {
   "cell_type": "code",
   "execution_count": null,
   "id": "bd1f8b32-1a89-457f-99ed-3ed214a7f8ea",
   "metadata": {},
   "outputs": [],
   "source": []
  }
 ],
 "metadata": {
  "kernelspec": {
   "display_name": "Python 3 (ipykernel)",
   "language": "python",
   "name": "python3"
  },
  "language_info": {
   "codemirror_mode": {
    "name": "ipython",
    "version": 3
   },
   "file_extension": ".py",
   "mimetype": "text/x-python",
   "name": "python",
   "nbconvert_exporter": "python",
   "pygments_lexer": "ipython3",
   "version": "3.11.7"
  }
 },
 "nbformat": 4,
 "nbformat_minor": 5
}
