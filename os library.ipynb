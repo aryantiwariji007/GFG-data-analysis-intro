{
 "cells": [
  {
   "cell_type": "code",
   "execution_count": 1,
   "id": "fedca4e2-bcba-42ae-a7e7-8837115fb587",
   "metadata": {},
   "outputs": [],
   "source": [
    "import os"
   ]
  },
  {
   "cell_type": "code",
   "execution_count": 2,
   "id": "2275c34f-af52-4bf7-876e-7676a9367484",
   "metadata": {},
   "outputs": [
    {
     "data": {
      "text/plain": [
       "'C:\\\\Users\\\\Admin\\\\Desktop'"
      ]
     },
     "execution_count": 2,
     "metadata": {},
     "output_type": "execute_result"
    }
   ],
   "source": [
    "os.getcwd()"
   ]
  },
  {
   "cell_type": "code",
   "execution_count": 3,
   "id": "54fa79bb-9c09-4be7-8075-a953c1e9b56c",
   "metadata": {},
   "outputs": [
    {
     "data": {
      "text/plain": [
       "'C:\\\\Users\\\\Admin\\\\Desktop'"
      ]
     },
     "execution_count": 3,
     "metadata": {},
     "output_type": "execute_result"
    }
   ],
   "source": [
    "pwd"
   ]
  },
  {
   "cell_type": "code",
   "execution_count": 6,
   "id": "89e136d6-c9e0-4137-8fa3-3beb6c5f8ab6",
   "metadata": {},
   "outputs": [],
   "source": [
    "os.rmdir(\"GFG/GFG/GFG/GFG\")"
   ]
  },
  {
   "cell_type": "code",
   "execution_count": null,
   "id": "0f412069-8693-4a17-b29c-7061969f12d4",
   "metadata": {},
   "outputs": [],
   "source": []
  },
  {
   "cell_type": "code",
   "execution_count": 7,
   "id": "ed8c6571-47c0-4b60-8aac-373bf5d219d9",
   "metadata": {},
   "outputs": [],
   "source": [
    "os.rmdir(\"GFG/GFG/GFG\")"
   ]
  },
  {
   "cell_type": "code",
   "execution_count": 8,
   "id": "69b2ba7e-11cd-4322-ba03-0cc7570a5103",
   "metadata": {},
   "outputs": [],
   "source": [
    "os.rmdir(\"GFG/GFG\")"
   ]
  },
  {
   "cell_type": "code",
   "execution_count": 9,
   "id": "a5259272-7070-4647-91d4-307f54b562ac",
   "metadata": {},
   "outputs": [],
   "source": [
    "os.rmdir(\"GFG\")"
   ]
  },
  {
   "cell_type": "code",
   "execution_count": 10,
   "id": "b8a56f47-7e4d-441f-887a-5c1fa42b4f01",
   "metadata": {},
   "outputs": [
    {
     "data": {
      "text/plain": [
       "[' GFG data analysis',\n",
       " '.ipynb_checkpoints',\n",
       " 'ap22364795346345-2c6120b6fd7a4e91f1b49c8bafa1d3b9ae28e482-s1100-c50.jpg',\n",
       " 'Apna college c++',\n",
       " 'Aryan Tiwari Resume.pdf',\n",
       " 'aryan.txt',\n",
       " 'bootstrap demo',\n",
       " 'CCSKv4_Exam_Preparation_Kit.zip',\n",
       " 'clone items',\n",
       " 'complete web devlopment bootcamp',\n",
       " 'david goggins 2.png',\n",
       " 'david goggins.jpg',\n",
       " 'Day2Code',\n",
       " 'Day2Code.zip',\n",
       " 'desktop.ini',\n",
       " 'gdb c++',\n",
       " 'GFG Data analysis',\n",
       " 'GFG python',\n",
       " 'inventory management system with json adding functionalities.ipynb',\n",
       " 'Inventory management with add functionalities .ipynb',\n",
       " 'Inventory Management with files.ipynb',\n",
       " 'Inventory management with json',\n",
       " 'inventory management-generate sales.ipynb',\n",
       " 'inventory.txt',\n",
       " 'inventory1.ipynb',\n",
       " 'Inventory1.txt.txt',\n",
       " 'javascript one shot',\n",
       " 'lovebabbar DSA',\n",
       " 'MANIT',\n",
       " 'MinGW Installer.lnk',\n",
       " 'Mini project presentation.pdf',\n",
       " 'Monkeytype.lnk',\n",
       " 'New folder',\n",
       " 'NIT BPL',\n",
       " 'NitBHOPAL-main.zip',\n",
       " 'OS basics.ipynb',\n",
       " 'os library.ipynb',\n",
       " 'Postman.lnk',\n",
       " 'python-3.12.2-amd64.exe',\n",
       " 'Record.json',\n",
       " 'Records.json',\n",
       " 'sales.txt',\n",
       " 'soccer-lionel-messi-fc-barcelona-wallpaper-preview.jpg',\n",
       " 'SURAKSHA MODEL IMAGE.jpeg',\n",
       " 'SURAKSHA S7235 PPT.pdf',\n",
       " 'Untitled.ipynb',\n",
       " 'Visual Studio Code.lnk',\n",
       " 'writing data on a text file.txt',\n",
       " 'youtube.lnk']"
      ]
     },
     "execution_count": 10,
     "metadata": {},
     "output_type": "execute_result"
    }
   ],
   "source": [
    "os.listdir()"
   ]
  },
  {
   "cell_type": "code",
   "execution_count": null,
   "id": "c940c521-4b10-4661-83c4-8d5dc4922ac9",
   "metadata": {},
   "outputs": [],
   "source": []
  },
  {
   "cell_type": "code",
   "execution_count": 18,
   "id": "45606e36-fa68-4aae-944a-5c27df657b1c",
   "metadata": {},
   "outputs": [
    {
     "name": "stdout",
     "output_type": "stream",
     "text": [
      "05-Guess-My-Number copy\n",
      "07-Pig-Game copy\n",
      "counter-with-3hooks-main\n",
      "foodCart\n",
      "forms\n",
      "GFG\n",
      "html & css\n"
     ]
    }
   ],
   "source": [
    "for i in os.listdir(\"NIT BPL\"):\n",
    "   if i!=\".DS_Store\":\n",
    "        print(i)"
   ]
  },
  {
   "cell_type": "code",
   "execution_count": 19,
   "id": "bb910802-f83b-450b-be06-afa36547ce6f",
   "metadata": {},
   "outputs": [
    {
     "name": "stderr",
     "output_type": "stream",
     "text": [
      "'ls' is not recognized as an internal or external command,\n",
      "operable program or batch file.\n"
     ]
    }
   ],
   "source": []
  },
  {
   "cell_type": "code",
   "execution_count": 22,
   "id": "3a537c3b-28c0-44ae-9ed0-2cdf3370617e",
   "metadata": {},
   "outputs": [],
   "source": [
    "if os.path.exists(\"NIT BPL/A\"):\n",
    "    print(\"Folder already exsists\")\n",
    "else:\n",
    "    os.mkdir(\"A\")"
   ]
  },
  {
   "cell_type": "code",
   "execution_count": 23,
   "id": "783dec1e-35db-4903-802d-9cae87797448",
   "metadata": {},
   "outputs": [
    {
     "data": {
      "text/plain": [
       "4096"
      ]
     },
     "execution_count": 23,
     "metadata": {},
     "output_type": "execute_result"
    }
   ],
   "source": [
    "os.path.getsize(\"NIT BPL\")"
   ]
  },
  {
   "cell_type": "code",
   "execution_count": null,
   "id": "29eb0fc8-e217-4ab5-a075-26b16149b555",
   "metadata": {},
   "outputs": [],
   "source": []
  }
 ],
 "metadata": {
  "kernelspec": {
   "display_name": "Python 3 (ipykernel)",
   "language": "python",
   "name": "python3"
  },
  "language_info": {
   "codemirror_mode": {
    "name": "ipython",
    "version": 3
   },
   "file_extension": ".py",
   "mimetype": "text/x-python",
   "name": "python",
   "nbconvert_exporter": "python",
   "pygments_lexer": "ipython3",
   "version": "3.11.7"
  }
 },
 "nbformat": 4,
 "nbformat_minor": 5
}
