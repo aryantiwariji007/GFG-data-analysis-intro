{
 "cells": [
  {
   "cell_type": "code",
   "execution_count": 1,
   "id": "c2eb8808-9795-49d0-a11c-3f7df18ad267",
   "metadata": {},
   "outputs": [],
   "source": [
    "record={1001:{'Name':\"5 star\",'Price':10,'quantity':100},\n",
    "              1002:{'Name':\"bourbon\",'Price':20,'quantity':200},\n",
    "              1003:{'Name':\"candy\",'Price':56,'quantity':10}}\n"
   ]
  },
  {
   "cell_type": "code",
   "execution_count": null,
   "id": "4d80c584-f36c-491d-86bc-96782defb83d",
   "metadata": {},
   "outputs": [],
   "source": []
  },
  {
   "cell_type": "code",
   "execution_count": 2,
   "id": "cb3b9ce2-b06f-4991-a7bc-40a7e65f95ef",
   "metadata": {},
   "outputs": [
    {
     "data": {
      "text/plain": [
       "{1001: {'Name': '5 star', 'Price': 10, 'quantity': 100},\n",
       " 1002: {'Name': 'bourbon', 'Price': 20, 'quantity': 200},\n",
       " 1003: {'Name': 'candy', 'Price': 56, 'quantity': 10}}"
      ]
     },
     "execution_count": 2,
     "metadata": {},
     "output_type": "execute_result"
    }
   ],
   "source": [
    "record\n"
   ]
  },
  {
   "cell_type": "code",
   "execution_count": 3,
   "id": "5c5d142f-c1ac-4c60-9b1f-07a2c9ac0f31",
   "metadata": {},
   "outputs": [
    {
     "data": {
      "text/plain": [
       "200"
      ]
     },
     "execution_count": 3,
     "metadata": {},
     "output_type": "execute_result"
    }
   ],
   "source": [
    "record[1002]['Name']\n",
    "record[1002]['Price']\n",
    "record[1002]['quantity']"
   ]
  },
  {
   "cell_type": "code",
   "execution_count": 4,
   "id": "1e7863bc-a8a7-4c4a-b4aa-fd6909bf04a6",
   "metadata": {},
   "outputs": [
    {
     "name": "stdout",
     "output_type": "stream",
     "text": [
      "{'Name': '5 star', 'Price': 10, 'quantity': 100}\n",
      "{'Name': 'bourbon', 'Price': 20, 'quantity': 200}\n",
      "{'Name': 'candy', 'Price': 56, 'quantity': 10}\n"
     ]
    }
   ],
   "source": [
    "for i in record.keys():\n",
    "    print(record[i])"
   ]
  },
  {
   "cell_type": "code",
   "execution_count": null,
   "id": "83c561f4-945f-4ea8-b712-57488a40b7e8",
   "metadata": {},
   "outputs": [
    {
     "name": "stdout",
     "output_type": "stream",
     "text": [
      "--------------------MENU---------------------\n",
      "1001 5 star 10 5 star\n",
      "1002 bourbon 20 bourbon\n",
      "1003 candy 56 candy\n",
      "---------------------------------------------\n",
      "\n"
     ]
    }
   ],
   "source": [
    "import json\n",
    "print(\"--------------------MENU---------------------\")\n",
    "for key in record.keys():\n",
    "    print(key, record[key]['Name'], record[key]['Price'], record[key]['Name'])\n",
    "print(\"---------------------------------------------\")\n",
    "print('')\n",
    "\n",
    "ui_pr = int(input(\"Enter product ID : \"))\n",
    "ui_qn = int(input(\"Enter Quantiry   : \"))\n",
    "\n",
    "print(\"---------------------------------------------\")\n",
    "print('')\n",
    "\n",
    "print(\"Name      : \", record[ui_pr][\"Name\"])\n",
    "print(\"Price (Rs): \", record[ui_pr][\"Price\"])\n",
    "print(\"Quantity  : \", ui_qn)\n",
    "print(\"---------------------------------------------\")\n",
    "print(\"Billing   : \", ui_qn * record[ui_pr][\"Price\"], \"Rs\")\n",
    "print(\"---------------------------------------------\")\n",
    "\n",
    "\n",
    "fd=open(\"Records.json\",'w')\n",
    "fd.write(js)\n",
    "fd.close()"
   ]
  },
  {
   "cell_type": "code",
   "execution_count": null,
   "id": "881a61e3-dd06-4644-8208-57789687bc59",
   "metadata": {},
   "outputs": [],
   "source": [
    "record"
   ]
  },
  {
   "cell_type": "code",
   "execution_count": null,
   "id": "1ba055fd-357b-4d3d-8779-4e98ed46ba90",
   "metadata": {},
   "outputs": [],
   "source": [
    "record\n"
   ]
  },
  {
   "cell_type": "code",
   "execution_count": null,
   "id": "c324190f-ba3c-41cc-a56a-a13a82cacd4f",
   "metadata": {},
   "outputs": [],
   "source": [
    "json.dumps(record)"
   ]
  },
  {
   "cell_type": "code",
   "execution_count": null,
   "id": "79c787e3-9f58-42c1-8961-b35a59907b6f",
   "metadata": {},
   "outputs": [],
   "source": []
  },
  {
   "cell_type": "code",
   "execution_count": null,
   "id": "d4978277-86ea-4491-ac9b-faf6e06b03fd",
   "metadata": {},
   "outputs": [],
   "source": [
    "print(\"--------------------MENU---------------------\")\n",
    "for key in record.keys():\n",
    "    print(key, record[key]['Name'], record[key]['Price'], record[key]['Name'])\n",
    "print(\"---------------------------------------------\")\n",
    "print('')\n",
    "\n",
    "ui_pr = int(input(\"Enter product ID : \"))\n",
    "ui_qn = int(input(\"Enter Quantiry   : \"))\n",
    "\n",
    "print(\"---------------------------------------------\")\n",
    "print('')\n",
    "\n",
    "print(\"Name      : \", record[ui_pr][\"Name\"])\n",
    "print(\"Price (Rs): \", record[ui_pr][\"Price\"])\n",
    "print(\"Quantity  : \", ui_qn)\n",
    "print(\"---------------------------------------------\")\n",
    "print(\"Billing   : \", ui_q * record[ui_pr][\"Price\"], \"Rs\")\n",
    "print(\"---------------------------------------------\")\n",
    "\n",
    "record[ui_pr]['Qn'] = record[ui_pr]['Qn'] - ui_qn\n",
    "\n",
    "print('')\n",
    "print(\"---------------------------------------------\")\n",
    "print(\"  Thanks for your order, Inventory Updated!  \")\n",
    "print(\"---------------------------------------------\")"
   ]
  },
  {
   "cell_type": "code",
   "execution_count": null,
   "id": "abe34e36-a971-4858-865f-fd8f7bd4b9e8",
   "metadata": {},
   "outputs": [],
   "source": [
    "record={1001:{'Name':\"5 star\",'Price':10,'quantity':100},\n",
    "              1002:{'Name':\"bourbon\",'Price':20,'quantity':200},\n",
    "              1003:{'Name':\"candy\",'Price':56,'quantity':10}}\n"
   ]
  },
  {
   "cell_type": "code",
   "execution_count": null,
   "id": "48490589-30fb-478e-8047-43d438ea4672",
   "metadata": {},
   "outputs": [],
   "source": [
    "import json\n",
    "fd=open('Record.json','r')\n",
    "js=fd.read()\n",
    "\n",
    "fd.close()\n",
    "record=json.loads\n"
   ]
  },
  {
   "cell_type": "code",
   "execution_count": null,
   "id": "3e3927a4-e799-4f79-9591-0e2ee8ebf8f1",
   "metadata": {},
   "outputs": [],
   "source": [
    "print(\"--------------------MENU---------------------\")\n",
    "for key in record.keys():\n",
    "    print(key, record[key]['Name'], record[key]['Price'], record[key]['Name'])\n",
    "print(\"---------------------------------------------\")\n",
    "print('')\n",
    "\n",
    "ui_pr = int(input(\"Enter product ID : \"))\n",
    "ui_qn = int(input(\"Enter Quantiry   : \"))\n",
    "\n",
    "print(\"---------------------------------------------\")\n",
    "print('')\n",
    "\n",
    "print(\"Name      : \", record[ui_pr][\"Name\"])\n",
    "print(\"Price (Rs): \", record[ui_pr][\"Price\"])\n",
    "print(\"Quantity  : \", ui_qn)\n",
    "print(\"---------------------------------------------\")\n",
    "print(\"Billing   : \", ui_qn * record[ui_pr][\"Price\"], \"Rs\")\n",
    "print(\"---------------------------------------------\")\n",
    "\n",
    "record[ui_pr]['Qn'] = record[ui_pr]['Qn'] - ui_qn\n",
    "\n",
    "js = json.dumps(record)\n",
    "\n",
    "fd = open('Record.json','w')\n",
    "fd.write(js)\n",
    "fd.close()\n",
    "\n",
    "print('')\n",
    "print(\"---------------------------------------------\")\n",
    "print(\"  Thanks for your order, Inventory Updated!  \")\n",
    "print(\"---------------------------------------------\")\n"
   ]
  },
  {
   "cell_type": "code",
   "execution_count": null,
   "id": "48ba2048-c15d-4de3-a3b3-60fd7d118a40",
   "metadata": {},
   "outputs": [],
   "source": [
    "record\n"
   ]
  },
  {
   "cell_type": "code",
   "execution_count": null,
   "id": "22bc5466-c8c3-4482-bc8c-677ec547a354",
   "metadata": {},
   "outputs": [],
   "source": [
    "\n"
   ]
  },
  {
   "cell_type": "code",
   "execution_count": null,
   "id": "ace7e9e5-e27b-4549-937f-799a26c06377",
   "metadata": {},
   "outputs": [],
   "source": []
  }
 ],
 "metadata": {
  "kernelspec": {
   "display_name": "Python 3 (ipykernel)",
   "language": "python",
   "name": "python3"
  },
  "language_info": {
   "codemirror_mode": {
    "name": "ipython",
    "version": 3
   },
   "file_extension": ".py",
   "mimetype": "text/x-python",
   "name": "python",
   "nbconvert_exporter": "python",
   "pygments_lexer": "ipython3",
   "version": "3.11.7"
  }
 },
 "nbformat": 4,
 "nbformat_minor": 5
}
