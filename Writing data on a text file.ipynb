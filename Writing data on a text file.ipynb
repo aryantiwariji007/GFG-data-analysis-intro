{
 "cells": [
  {
   "cell_type": "code",
   "execution_count": null,
   "id": "c7881196-e132-4340-a9be-1f1a7c26e194",
   "metadata": {},
   "outputs": [],
   "source": [
    "fd=open(\"Data1.txt\",'a')\n",
    "txt=input(\"Enter the text\")\n",
    "txt=txt + \".\\n\"\n",
    "\n",
    "fd.write(txt)\n",
    "\n",
    "fd.close()\n"
   ]
  },
  {
   "cell_type": "code",
   "execution_count": null,
   "id": "896384bb-5fd0-42b1-8f53-666e151bb40d",
   "metadata": {},
   "outputs": [],
   "source": []
  },
  {
   "cell_type": "code",
   "execution_count": null,
   "id": "f0586f94-d37e-4d82-b8d3-74e6bdb545c1",
   "metadata": {},
   "outputs": [],
   "source": []
  }
 ],
 "metadata": {
  "kernelspec": {
   "display_name": "Python 3 (ipykernel)",
   "language": "python",
   "name": "python3"
  },
  "language_info": {
   "codemirror_mode": {
    "name": "ipython",
    "version": 3
   },
   "file_extension": ".py",
   "mimetype": "text/x-python",
   "name": "python",
   "nbconvert_exporter": "python",
   "pygments_lexer": "ipython3",
   "version": "3.11.7"
  }
 },
 "nbformat": 4,
 "nbformat_minor": 5
}
