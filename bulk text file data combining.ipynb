{
 "cells": [
  {
   "cell_type": "code",
   "execution_count": 1,
   "id": "45bbae98-e28b-4b9a-bc91-d6e918ba8cbf",
   "metadata": {},
   "outputs": [],
   "source": [
    "import os"
   ]
  },
  {
   "cell_type": "code",
   "execution_count": 2,
   "id": "43985bb5-8609-44b5-8d85-38e0e9b84a56",
   "metadata": {},
   "outputs": [],
   "source": [
    "files=os.listdir(\"Files\")"
   ]
  },
  {
   "cell_type": "code",
   "execution_count": 3,
   "id": "59dc63f1-b5ba-4123-af7a-9b7fee8de77b",
   "metadata": {},
   "outputs": [
    {
     "name": "stdout",
     "output_type": "stream",
     "text": [
      "Files/file4.txt.txt this is file 4\n",
      "Files/New Text Document - Copy (10).txt \n",
      "Files/New Text Document - Copy (11).txt \n",
      "Files/New Text Document - Copy (12).txt \n",
      "Files/New Text Document - Copy (2).txt \n",
      "Files/New Text Document - Copy (3).txt \n",
      "Files/New Text Document - Copy (5).txt \n",
      "Files/New Text Document - Copy (6).txt \n",
      "Files/New Text Document - Copy (7).txt \n",
      "Files/New Text Document - Copy (8).txt \n",
      "Files/New Text Document - Copy (9).txt \n",
      "Files/New Text Document - Copy.txt \n",
      "Files/New Text Document.txt \n"
     ]
    }
   ],
   "source": [
    "\n",
    "for i in files:\n",
    "    if i != '.DS_Store':\n",
    "        \n",
    "        fd = open('Files/'+i,'r')\n",
    "        print('Files/'+i, fd.read())\n",
    "        fd.close()"
   ]
  },
  {
   "cell_type": "code",
   "execution_count": 5,
   "id": "1a68b0bb-aa4f-4f19-82b6-8b33fe59ca7e",
   "metadata": {},
   "outputs": [],
   "source": [
    "fd=open(\"Data.txt\",'a')\n",
    "fd.write(\"Hello world\")\n",
    "\n",
    "fd.close()\n"
   ]
  },
  {
   "cell_type": "code",
   "execution_count": null,
   "id": "7754e0c3-e5d7-4dd3-b29d-b51fdc30b8e5",
   "metadata": {},
   "outputs": [],
   "source": [
    "\n"
   ]
  }
 ],
 "metadata": {
  "kernelspec": {
   "display_name": "Python 3 (ipykernel)",
   "language": "python",
   "name": "python3"
  },
  "language_info": {
   "codemirror_mode": {
    "name": "ipython",
    "version": 3
   },
   "file_extension": ".py",
   "mimetype": "text/x-python",
   "name": "python",
   "nbconvert_exporter": "python",
   "pygments_lexer": "ipython3",
   "version": "3.11.7"
  }
 },
 "nbformat": 4,
 "nbformat_minor": 5
}
