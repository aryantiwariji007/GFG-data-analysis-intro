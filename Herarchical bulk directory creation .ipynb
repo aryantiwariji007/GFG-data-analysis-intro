{
 "cells": [
  {
   "cell_type": "code",
   "execution_count": 1,
   "id": "66daac57-a326-4974-87c5-6c0a3f1cba28",
   "metadata": {},
   "outputs": [],
   "source": [
    "import os"
   ]
  },
  {
   "cell_type": "code",
   "execution_count": 10,
   "id": "aa07b010-8049-4641-9d12-612ec86999df",
   "metadata": {},
   "outputs": [
    {
     "name": "stdout",
     "output_type": "stream",
     "text": [
      "GFG/GFG1\n",
      "GFG/GFG 1 1\n",
      "GFG/GFG 1 2\n",
      "GFG/GFG 1 3\n",
      "GFG/GFG 1 4\n",
      "GFG/GFG 1 5\n",
      "GFG/GFG2\n",
      "GFG/GFG 2 1\n",
      "GFG/GFG 2 2\n",
      "GFG/GFG 2 3\n",
      "GFG/GFG 2 4\n",
      "GFG/GFG 2 5\n",
      "GFG/GFG3\n",
      "GFG/GFG 3 1\n",
      "GFG/GFG 3 2\n",
      "GFG/GFG 3 3\n",
      "GFG/GFG 3 4\n",
      "GFG/GFG 3 5\n",
      "GFG/GFG4\n",
      "GFG/GFG 4 1\n",
      "GFG/GFG 4 2\n",
      "GFG/GFG 4 3\n",
      "GFG/GFG 4 4\n",
      "GFG/GFG 4 5\n",
      "GFG/GFG5\n",
      "GFG/GFG 5 1\n",
      "GFG/GFG 5 2\n",
      "GFG/GFG 5 3\n",
      "GFG/GFG 5 4\n",
      "GFG/GFG 5 5\n",
      "GFG/GFG6\n",
      "GFG/GFG 6 1\n",
      "GFG/GFG 6 2\n",
      "GFG/GFG 6 3\n",
      "GFG/GFG 6 4\n",
      "GFG/GFG 6 5\n",
      "GFG/GFG7\n",
      "GFG/GFG 7 1\n",
      "GFG/GFG 7 2\n",
      "GFG/GFG 7 3\n",
      "GFG/GFG 7 4\n",
      "GFG/GFG 7 5\n",
      "GFG/GFG8\n",
      "GFG/GFG 8 1\n",
      "GFG/GFG 8 2\n",
      "GFG/GFG 8 3\n",
      "GFG/GFG 8 4\n",
      "GFG/GFG 8 5\n",
      "GFG/GFG9\n",
      "GFG/GFG 9 1\n",
      "GFG/GFG 9 2\n",
      "GFG/GFG 9 3\n",
      "GFG/GFG 9 4\n",
      "GFG/GFG 9 5\n",
      "GFG/GFG10\n",
      "GFG/GFG 10 1\n",
      "GFG/GFG 10 2\n",
      "GFG/GFG 10 3\n",
      "GFG/GFG 10 4\n",
      "GFG/GFG 10 5\n"
     ]
    }
   ],
   "source": [
    "master=\"GFG\"\n",
    "#os.mkdir(n)\n",
    "for i in range(10):\n",
    "    name= master + '/' +n + str(i+1)\n",
    "   # os.mkdir(name)\n",
    "    print(name)\n",
    "    for j in range (5):\n",
    "        name=master + '/' + master + ' ' + str(i+1) + \" \" + str(j +1)\n",
    "        #os.mkdir(name)\n",
    "        print(name)"
   ]
  },
  {
   "cell_type": "code",
   "execution_count": 6,
   "id": "9f56945b-a9a1-453c-a2fb-d09cc1cdc4ab",
   "metadata": {},
   "outputs": [
    {
     "name": "stderr",
     "output_type": "stream",
     "text": [
      "'ls' is not recognized as an internal or external command,\n",
      "operable program or batch file.\n"
     ]
    }
   ],
   "source": []
  },
  {
   "cell_type": "code",
   "execution_count": null,
   "id": "f6f5e7b3-4048-4d7f-87f6-c74b5a9fd839",
   "metadata": {},
   "outputs": [],
   "source": []
  },
  {
   "cell_type": "code",
   "execution_count": null,
   "id": "7022135a-0e9c-443e-a038-2b560511047f",
   "metadata": {},
   "outputs": [],
   "source": []
  }
 ],
 "metadata": {
  "kernelspec": {
   "display_name": "Python 3 (ipykernel)",
   "language": "python",
   "name": "python3"
  },
  "language_info": {
   "codemirror_mode": {
    "name": "ipython",
    "version": 3
   },
   "file_extension": ".py",
   "mimetype": "text/x-python",
   "name": "python",
   "nbconvert_exporter": "python",
   "pygments_lexer": "ipython3",
   "version": "3.11.7"
  }
 },
 "nbformat": 4,
 "nbformat_minor": 5
}
