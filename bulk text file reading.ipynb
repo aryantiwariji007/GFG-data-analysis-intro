{
 "cells": [
  {
   "cell_type": "code",
   "execution_count": 2,
   "id": "569a501b-8b3b-45a0-904b-039f25e466bb",
   "metadata": {},
   "outputs": [],
   "source": [
    "import os"
   ]
  },
  {
   "cell_type": "code",
   "execution_count": 3,
   "id": "a6508820-6441-4209-b685-363cc629a66f",
   "metadata": {},
   "outputs": [],
   "source": [
    "files=os.listdir(\"Files\")"
   ]
  },
  {
   "cell_type": "code",
   "execution_count": 4,
   "id": "2d555174-9298-45e6-a138-3e7d19470cd7",
   "metadata": {},
   "outputs": [
    {
     "data": {
      "text/plain": [
       "['file4.txt.txt',\n",
       " 'New Text Document - Copy (10).txt',\n",
       " 'New Text Document - Copy (11).txt',\n",
       " 'New Text Document - Copy (12).txt',\n",
       " 'New Text Document - Copy (2).txt',\n",
       " 'New Text Document - Copy (3).txt',\n",
       " 'New Text Document - Copy (5).txt',\n",
       " 'New Text Document - Copy (6).txt',\n",
       " 'New Text Document - Copy (7).txt',\n",
       " 'New Text Document - Copy (8).txt',\n",
       " 'New Text Document - Copy (9).txt',\n",
       " 'New Text Document - Copy.txt',\n",
       " 'New Text Document.txt']"
      ]
     },
     "execution_count": 4,
     "metadata": {},
     "output_type": "execute_result"
    }
   ],
   "source": [
    "files"
   ]
  },
  {
   "cell_type": "code",
   "execution_count": 5,
   "id": "14a3c26f-9aa9-4356-a2ed-c525bffcccb5",
   "metadata": {},
   "outputs": [
    {
     "name": "stdout",
     "output_type": "stream",
     "text": [
      "file4.txt.txt\n",
      "New Text Document - Copy (10).txt\n",
      "New Text Document - Copy (11).txt\n",
      "New Text Document - Copy (12).txt\n",
      "New Text Document - Copy (2).txt\n",
      "New Text Document - Copy (3).txt\n",
      "New Text Document - Copy (5).txt\n",
      "New Text Document - Copy (6).txt\n",
      "New Text Document - Copy (7).txt\n",
      "New Text Document - Copy (8).txt\n",
      "New Text Document - Copy (9).txt\n",
      "New Text Document - Copy.txt\n",
      "New Text Document.txt\n"
     ]
    }
   ],
   "source": [
    "for i in files:\n",
    "    print(i)"
   ]
  },
  {
   "cell_type": "code",
   "execution_count": 6,
   "id": "9149fa93-cafa-41bb-b881-e571eeab56d1",
   "metadata": {},
   "outputs": [],
   "source": [
    "\n",
    "\n",
    "fd_write = open('Data.txt','a')\n",
    "\n",
    "for i in files:\n",
    "    if i != '.DS_Store':\n",
    "        \n",
    "        fd_read = open('Files/'+i,'r')\n",
    "             \n",
    "        fd_write.write(fd_read.read())\n",
    "        \n",
    "        fd_read.close()\n",
    "        \n",
    "fd_write.close()"
   ]
  },
  {
   "cell_type": "code",
   "execution_count": 7,
   "id": "6ec5890a-3e98-4aa5-a2de-74a45631584b",
   "metadata": {},
   "outputs": [],
   "source": [
    "txt = ''\n",
    "\n",
    "for i in files:\n",
    "    if i != '.DS_Store':\n",
    "        \n",
    "        fd_read = open('Files/'+i,'r')\n",
    "        txt += fd_read.read()\n",
    "        fd_read.close()\n"
   ]
  },
  {
   "cell_type": "code",
   "execution_count": 9,
   "id": "42557462-8aeb-4134-b7ed-319949ac042f",
   "metadata": {},
   "outputs": [],
   "source": [
    "fd_write = open('Data1.txt','a')\n",
    "\n",
    "fd_write.write(txt)\n",
    "\n",
    "fd_write.close()"
   ]
  },
  {
   "cell_type": "code",
   "execution_count": 10,
   "id": "11492660-9a6f-40b4-aa02-157f195c48e5",
   "metadata": {},
   "outputs": [
    {
     "data": {
      "text/plain": [
       "'this is file 4'"
      ]
     },
     "execution_count": 10,
     "metadata": {},
     "output_type": "execute_result"
    }
   ],
   "source": [
    "txt\n"
   ]
  },
  {
   "cell_type": "code",
   "execution_count": null,
   "id": "6821b2cb-8679-4614-ab22-bf1a1a74c671",
   "metadata": {},
   "outputs": [],
   "source": []
  }
 ],
 "metadata": {
  "kernelspec": {
   "display_name": "Python 3 (ipykernel)",
   "language": "python",
   "name": "python3"
  },
  "language_info": {
   "codemirror_mode": {
    "name": "ipython",
    "version": 3
   },
   "file_extension": ".py",
   "mimetype": "text/x-python",
   "name": "python",
   "nbconvert_exporter": "python",
   "pygments_lexer": "ipython3",
   "version": "3.11.7"
  }
 },
 "nbformat": 4,
 "nbformat_minor": 5
}
